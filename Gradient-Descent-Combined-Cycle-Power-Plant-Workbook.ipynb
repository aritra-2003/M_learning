{
 "cells": [
  {
   "cell_type": "code",
   "execution_count": 2,
   "metadata": {},
   "outputs": [],
   "source": [
    "import numpy as np\n",
    "import matplotlib.pyplot as plt\n",
    "from IPython.display import clear_output\n",
    "from sklearn import preprocessing"
   ]
  },
  {
   "cell_type": "code",
   "execution_count": 3,
   "metadata": {},
   "outputs": [],
   "source": [
    "data = np.loadtxt(\"Combined-Cycle-Power-Plant-Training-Data.csv\",delimiter=\",\")"
   ]
  },
  {
   "cell_type": "code",
   "execution_count": 4,
   "metadata": {},
   "outputs": [
    {
     "data": {
      "text/plain": [
       "(7176, 5)"
      ]
     },
     "execution_count": 4,
     "metadata": {},
     "output_type": "execute_result"
    }
   ],
   "source": [
    "data.shape"
   ]
  },
  {
   "cell_type": "code",
   "execution_count": 5,
   "metadata": {},
   "outputs": [],
   "source": [
    "X = data[:,0:4]\n",
    "Y = data[:,4]"
   ]
  },
  {
   "cell_type": "code",
   "execution_count": 6,
   "metadata": {},
   "outputs": [
    {
     "data": {
      "text/plain": [
       "StandardScaler(copy=True, with_mean=True, with_std=True)"
      ]
     },
     "execution_count": 6,
     "metadata": {},
     "output_type": "execute_result"
    }
   ],
   "source": [
    "scaler = preprocessing.StandardScaler()\n",
    "scaler.fit(X)"
   ]
  },
  {
   "cell_type": "code",
   "execution_count": 7,
   "metadata": {},
   "outputs": [],
   "source": [
    "X_scaled = scaler.transform(X)"
   ]
  },
  {
   "cell_type": "code",
   "execution_count": 8,
   "metadata": {},
   "outputs": [
    {
     "data": {
      "text/plain": [
       "((7176, 4), (7176,))"
      ]
     },
     "execution_count": 8,
     "metadata": {},
     "output_type": "execute_result"
    }
   ],
   "source": [
    "X_scaled.shape,Y.shape"
   ]
  },
  {
   "cell_type": "code",
   "execution_count": 20,
   "metadata": {},
   "outputs": [],
   "source": [
    "X_ = np.append(X_scaled,np.ones(X_scaled.shape[0]).reshape(-1,1),axis=1)"
   ]
  },
  {
   "cell_type": "code",
   "execution_count": 21,
   "metadata": {},
   "outputs": [
    {
     "data": {
      "text/plain": [
       "(7176, 5)"
      ]
     },
     "execution_count": 21,
     "metadata": {},
     "output_type": "execute_result"
    }
   ],
   "source": [
    "X_.shape"
   ]
  },
  {
   "cell_type": "code",
   "execution_count": 22,
   "metadata": {},
   "outputs": [],
   "source": [
    "def cost(X_train,m,Y_train):\n",
    "    cost_ = 0\n",
    "    N = X_train.shape[0]\n",
    "    for i in range(N):\n",
    "        cost_ += (1/N)*((Y_train[i]-((X_train[i]*m).sum()))**2)\n",
    "    return cost_"
   ]
  },
  {
   "cell_type": "code",
   "execution_count": 23,
   "metadata": {},
   "outputs": [],
   "source": [
    "def step_gradient(X_train,Y_train,m,lr):\n",
    "    \n",
    "    slope_m = np.zeros(X_train.shape[1])\n",
    "    N = X_train.shape[0]\n",
    "    \n",
    "    for i in range(N):\n",
    "        slope_m += (2/N)*(Y_train[i]-(m*X_train[i]).sum())*(-X_train[i])\n",
    "        \n",
    "    m = m - (lr * slope_m)\n",
    "    \n",
    "    return m"
   ]
  },
  {
   "cell_type": "code",
   "execution_count": 24,
   "metadata": {},
   "outputs": [],
   "source": [
    "def fit(X_train,Y_train,lr=0.001,epochs=100,verbose=False):\n",
    "    m = np.zeros(X_train.shape[1])\n",
    "    last_m = m\n",
    "    cost_array = []\n",
    "    unit = epochs//100\n",
    "    for i in range(epochs+1):\n",
    "        last_m = m\n",
    "        m = step_gradient(X_train,Y_train,m,lr)\n",
    "        cost_ = cost(X_train,m,Y_train)\n",
    "        \n",
    "        #verbose is used to only show the learning process if required, else it is False by default\n",
    "        if verbose and i%unit==0:\n",
    "            print(\"epoch:\",i,\"cost:\",cost_)\n",
    "            cost_array.append(cost_)\n",
    "    \n",
    "    #To continue the learning loop incase the current epoch and learning parameters doesn't lead to saturation\n",
    "    cont = input(\"Do you want to continue?:\")\n",
    "        \n",
    "    while cont==\"y\":\n",
    "        clear_output(wait=True)\n",
    "        epochs = int(input(\"Please enter the number of epochs to continue for:\"))\n",
    "        unit = int(input(\"Please enter the unit point for epochs:\"))\n",
    "        lr_factor = float(input(\"Please enter the decay factor for the learning rate:\"))\n",
    "        lr*=lr_factor\n",
    "        for i in range(epochs+1):\n",
    "            last_m = m\n",
    "            m = step_gradient(X_train,Y_train,m,lr)\n",
    "            cost_ = cost(X_train,m,Y_train)\n",
    "            if verbose and i%unit==0:\n",
    "                print(\"epoch:\",i,\"cost:\",cost_)\n",
    "                cost_array.append(cost_)\n",
    "        cont = input(\"Do you want to continue?:\")\n",
    "        \n",
    "    return m,cost_array"
   ]
  },
  {
   "cell_type": "code",
   "execution_count": 25,
   "metadata": {},
   "outputs": [],
   "source": [
    "def predict(X_test,m):\n",
    "    y_pred = []\n",
    "    for i in range(X_test.shape[0]):\n",
    "        y_pred.append((X_test[i]*m).sum())\n",
    "    return np.array(y_pred)"
   ]
  },
  {
   "cell_type": "code",
   "execution_count": 26,
   "metadata": {},
   "outputs": [],
   "source": [
    "def score(Y_true,Y_pred):\n",
    "    u = ((Y_true-Y_pred)**2).sum()\n",
    "    v = ((Y_true-(Y_true.mean()))**2).sum()\n",
    "    return 1-(u/v)"
   ]
  },
  {
   "cell_type": "code",
   "execution_count": 28,
   "metadata": {},
   "outputs": [
    {
     "name": "stdout",
     "output_type": "stream",
     "text": [
      "Please enter the number of epochs to continue for:100\n",
      "Please enter the unit point for epochs:10\n",
      "Please enter the decay factor for the learning rate:2\n",
      "epoch: 0 cost: 20.91174899030883\n",
      "epoch: 10 cost: 20.911748990308837\n",
      "epoch: 20 cost: 20.911748990308922\n",
      "epoch: 30 cost: 20.911748990308915\n",
      "epoch: 40 cost: 20.911748990309004\n",
      "epoch: 50 cost: 20.91174899030876\n",
      "epoch: 60 cost: 20.911748990308883\n",
      "epoch: 70 cost: 20.911748990308897\n",
      "epoch: 80 cost: 20.911748990308958\n",
      "epoch: 90 cost: 20.911748990308926\n",
      "epoch: 100 cost: 20.9117489903089\n",
      "Do you want to continue?:100\n",
      "[-1.49027294e+01 -2.89427819e+00  3.49739961e-01 -2.34230172e+00\n",
      "  4.54431293e+02]\n"
     ]
    }
   ],
   "source": [
    "m, cost_array = fit(X_,Y,epochs=1000,lr=0.1,verbose=True)\n",
    "print(m)"
   ]
  },
  {
   "cell_type": "code",
   "execution_count": 29,
   "metadata": {},
   "outputs": [
    {
     "data": {
      "image/png": "[encoded data removed]",
      "text/plain": [
       "<Figure size 432x288 with 1 Axes>"
      ]
     },
     "metadata": {
      "needs_background": "light"
     },
     "output_type": "display_data"
    }
   ],
   "source": [
    "plt.plot(cost_array)\n",
    "plt.grid()\n",
    "plt.show()"
   ]
  },
  {
   "cell_type": "code",
   "execution_count": 30,
   "metadata": {},
   "outputs": [
    {
     "data": {
      "text/plain": [
       "(7176,)"
      ]
     },
     "execution_count": 30,
     "metadata": {},
     "output_type": "execute_result"
    }
   ],
   "source": [
    "y_pred = predict(X_,m)\n",
    "y_pred.shape"
   ]
  },
  {
   "cell_type": "code",
   "execution_count": 31,
   "metadata": {},
   "outputs": [
    {
     "data": {
      "text/plain": [
       "0.9287632000440599"
      ]
     },
     "execution_count": 31,
     "metadata": {},
     "output_type": "execute_result"
    }
   ],
   "source": [
    "score(Y,y_pred)"
   ]
  },
  {
   "cell_type": "code",
   "execution_count": 32,
   "metadata": {},
   "outputs": [],
   "source": [
    "X_test = np.loadtxt(\"Combined-Cycle-Power-Plant-Testing-Data.csv\",delimiter=\",\")"
   ]
  },
  {
   "cell_type": "code",
   "execution_count": 33,
   "metadata": {},
   "outputs": [],
   "source": [
    "X_test_scaled = scaler.transform(X_test)"
   ]
  },
  {
   "cell_type": "code",
   "execution_count": 34,
   "metadata": {},
   "outputs": [],
   "source": [
    "X_test_scaled_ = np.append(X_test_scaled,np.ones(X_test_scaled.shape[0]).reshape(-1,1),axis=1)"
   ]
  },
  {
   "cell_type": "code",
   "execution_count": 35,
   "metadata": {},
   "outputs": [],
   "source": [
    "y_pred_test = predict(X_test_scaled_,m)"
   ]
  },
  {
   "cell_type": "code",
   "execution_count": 36,
   "metadata": {},
   "outputs": [],
   "source": [
    "np.savetxt('pred_feature_scaling.csv',y_pred_test)"
   ]
  },
  {
   "cell_type": "code",
   "execution_count": null,
   "metadata": {},
   "outputs": [],
   "source": []
  }
 ],
 "metadata": {
  "kernelspec": {
   "display_name": "Python 3",
   "language": "python",
   "name": "python3"
  },
  "language_info": {
   "codemirror_mode": {
    "name": "ipython",
    "version": 3
   },
   "file_extension": ".py",
   "mimetype": "text/x-python",
   "name": "python",
   "nbconvert_exporter": "python",
   "pygments_lexer": "ipython3",
   "version": "3.6.8"
  }
 },
 "nbformat": 4,
 "nbformat_minor": 2
}
